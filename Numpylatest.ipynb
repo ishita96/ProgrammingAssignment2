{
  "nbformat": 4,
  "nbformat_minor": 0,
  "metadata": {
    "kernelspec": {
      "display_name": "Python 3",
      "language": "python",
      "name": "python3"
    },
    "language_info": {
      "codemirror_mode": {
        "name": "ipython",
        "version": 3
      },
      "file_extension": ".py",
      "mimetype": "text/x-python",
      "name": "python",
      "nbconvert_exporter": "python",
      "pygments_lexer": "ipython3",
      "version": "3.8.5"
    },
    "colab": {
      "name": "Numpylatest.ipynb",
      "provenance": [],
      "collapsed_sections": [
        "hOTmUJOZmkFO"
      ],
      "include_colab_link": true
    }
  },
  "cells": [
    {
      "cell_type": "markdown",
      "metadata": {
        "id": "view-in-github",
        "colab_type": "text"
      },
      "source": [
        "<a href=\"https://colab.research.google.com/github/ishita96/ProgrammingAssignment2/blob/master/Numpylatest.ipynb\" target=\"_parent\"><img src=\"https://colab.research.google.com/assets/colab-badge.svg\" alt=\"Open In Colab\"/></a>"
      ]
    },
    {
      "cell_type": "markdown",
      "metadata": {
        "id": "HwkRJTzQmkEJ"
      },
      "source": [
        "# <center> Numpy Basics </center>"
      ]
    },
    {
      "cell_type": "markdown",
      "metadata": {
        "id": "ChsF0WJSmkEN"
      },
      "source": [
        "Welcome to section of Numpy. This is one of the \n",
        "the most used Python libraries for data science. NumPy consists of a powerful data structure called multidimensional arrays. Pandas is another powerful Python library that provides fast and easy data analysis platform.\n",
        "\n",
        "NumPy is a library written for scientific computing and data analysis. It stands for numerical python and also known as array oriented computing.\n",
        "\n",
        "The most basic object in NumPy is the ndarray, or simply an array which is an n-dimensional, homogeneous array. By homogenous, we mean that all the elements in a NumPy array have to be of the same data type, which is commonly numeric (float or integer).\n",
        "\n",
        "\n",
        " # Why Numpy?\n",
        " convenience & speed\n",
        " \n",
        " Numpy is much faster than the standard python ways to do computations.\n",
        " \n",
        "Vectorised code typically does not contain explicit looping and indexing etc. (all of this happens behind the scenes, in precompiled C-code), and thus it is much more concise.\n",
        "\n",
        "Also, many Numpy operations are implemented in C which is basically being executed behind the scenes, avoiding the general cost of loops in Python, pointer indirection and per-element dynamic type checking. The speed boost depends on which operations you're performing.\n",
        " \n",
        " NumPy arrays are more compact than lists, i.e. they take much lesser storage space than lists\n",
        " \n",
        " ***Let's get started  with our Numpy Assigment**\n",
        " \n",
        " <p style='text-align: right;'> 2 points </p>\n"
      ]
    },
    {
      "cell_type": "code",
      "metadata": {
        "id": "VeyuCeB4mkEP"
      },
      "source": [
        "#import numpy module with alias np\n",
        "import numpy as np"
      ],
      "execution_count": 1,
      "outputs": []
    },
    {
      "cell_type": "markdown",
      "metadata": {
        "id": "qsRBm1mamkEQ"
      },
      "source": [
        "We can create a NumPy ndarray object by using the array() function.\n",
        "To create an ndarray, we can pass a list, tuple or any array-like object into the array() method, and it will be converted into an ndarray:\n"
      ]
    },
    {
      "cell_type": "code",
      "metadata": {
        "id": "naXyJxOpmkER"
      },
      "source": [
        "# Define a numpy array passing a list with  1,2 and 3 as elements in it\n",
        "a = np.array([1,2,3])"
      ],
      "execution_count": 2,
      "outputs": []
    },
    {
      "cell_type": "code",
      "metadata": {
        "id": "Pki0_9xPmkES",
        "colab": {
          "base_uri": "https://localhost:8080/"
        },
        "outputId": "a45d6b16-47ce-40ab-ec4d-2375ccc9172c"
      },
      "source": [
        "# print a\n",
        "a"
      ],
      "execution_count": 3,
      "outputs": [
        {
          "output_type": "execute_result",
          "data": {
            "text/plain": [
              "array([1, 2, 3])"
            ]
          },
          "metadata": {
            "tags": []
          },
          "execution_count": 3
        }
      ]
    },
    {
      "cell_type": "markdown",
      "metadata": {
        "id": "zBAT8MDKmkET"
      },
      "source": [
        "## Dimensions in Arrays\n",
        "\n",
        "Reference: https://www.youtube.com/watch?v=BNAfVruKKkU\n",
        "\n",
        "Numpy array can be of n dimentions\n",
        "\n",
        "Lets create arrays of different dimentions.\n",
        "\n",
        "a=A numpy array with one single integer 10\n",
        "\n",
        "b=A numpy array passing a list having a list= [1,2,3]\n",
        "\n",
        "c=A numpy array passing nested list having [[1, 2, 3], [4, 5, 6]] as elements\n",
        "\n",
        "d=A numpy array passing nested list having [[[1, 2, 3], [4, 5, 6]], [[1, 2, 3], [4, 5, 6]]] as elements\n",
        "\n",
        "<p style='text-align: right;'> 3 points </p>\n"
      ]
    },
    {
      "cell_type": "code",
      "metadata": {
        "id": "4FaCplz8mkEU"
      },
      "source": [
        "#define a,b,c and d as instructed above\n",
        "\n",
        "a = np.array(10)\n",
        "b = np.array([1,2,3])\n",
        "c = np.array([[1,2,3],[4,5,6]])\n",
        "d = np.array([[[1,2,3],[4,5,6]],[[1,2,3],[4,5,6]]])"
      ],
      "execution_count": 4,
      "outputs": []
    },
    {
      "cell_type": "markdown",
      "metadata": {
        "id": "jBpPjEC9mkEU"
      },
      "source": [
        "Are you ready to check its dimention? Use ndim attribute on each variable to check its dimention"
      ]
    },
    {
      "cell_type": "code",
      "metadata": {
        "id": "XPyfACh7mkEV",
        "colab": {
          "base_uri": "https://localhost:8080/"
        },
        "outputId": "b7e36396-4ce8-4c18-ced2-b0a2c2f46618"
      },
      "source": [
        "#print dimentions of a,b, c and d\n",
        "dima = a.ndim\n",
        "dimb = b.ndim\n",
        "dimc = c.ndim\n",
        "dimd = d.ndim\n",
        "print(f'dimensions of a : {dima}')\n",
        "print(f'dimensions of a : {dimb}')\n",
        "print(f'dimensions of a : {dimc}')\n",
        "print(f'dimensions of a : {dimd}')\n"
      ],
      "execution_count": 5,
      "outputs": [
        {
          "output_type": "stream",
          "text": [
            "dimensions of a : 0\n",
            "dimensions of a : 1\n",
            "dimensions of a : 2\n",
            "dimensions of a : 3\n"
          ],
          "name": "stdout"
        }
      ]
    },
    {
      "cell_type": "markdown",
      "metadata": {
        "id": "I-SfD3_ZmkEX"
      },
      "source": [
        "Hey hey. Did you see! you have created 0-D,1-DeprecationWarning, 2-D and 3-D arrays.\n",
        "\n",
        "Lets print there shape as well. You can check shape using shape attribute\n",
        "\n"
      ]
    },
    {
      "cell_type": "code",
      "metadata": {
        "id": "VmlzYwaDmkEX",
        "colab": {
          "base_uri": "https://localhost:8080/"
        },
        "outputId": "52a7ef8a-d7d8-420a-8f64-5596e9c72527"
      },
      "source": [
        "# print shape of each a,b ,c and d\n",
        "shapea = a.shape\n",
        "shapeb = b.shape\n",
        "shapec = c.shape\n",
        "shaped = d.shape\n",
        "print(f'dimensions of a : {shapea}')\n",
        "print(f'dimensions of a : {shapeb}')\n",
        "print(f'dimensions of a : {shapec}')\n",
        "print(f'dimensions of a : {shaped}')\n"
      ],
      "execution_count": 6,
      "outputs": [
        {
          "output_type": "stream",
          "text": [
            "dimensions of a : ()\n",
            "dimensions of a : (3,)\n",
            "dimensions of a : (2, 3)\n",
            "dimensions of a : (2, 2, 3)\n"
          ],
          "name": "stdout"
        }
      ]
    },
    {
      "cell_type": "markdown",
      "metadata": {
        "id": "3fyAHiTWmkEY"
      },
      "source": [
        "Lets check data type passed in our array. To check data type you can use dtype attribute"
      ]
    },
    {
      "cell_type": "code",
      "metadata": {
        "id": "CPls-WWMmkEY",
        "colab": {
          "base_uri": "https://localhost:8080/"
        },
        "outputId": "d4d054a1-48f8-4c53-dc4a-8a1d92384e5c"
      },
      "source": [
        "# print data type of c and d\n",
        "print(c.dtype)\n",
        "print(d.dtype)\n"
      ],
      "execution_count": 7,
      "outputs": [
        {
          "output_type": "stream",
          "text": [
            "int64\n",
            "int64\n"
          ],
          "name": "stdout"
        }
      ]
    },
    {
      "cell_type": "markdown",
      "metadata": {
        "id": "e_JDXYtnmkEZ"
      },
      "source": [
        "Above output mean our array is having int type elements in it."
      ]
    },
    {
      "cell_type": "markdown",
      "metadata": {
        "id": "O1Z1xexTmkEZ"
      },
      "source": [
        "Lets check the type of our variable. To check type of any numpy variable use type() function "
      ]
    },
    {
      "cell_type": "code",
      "metadata": {
        "id": "x0roGCxzmkEZ",
        "colab": {
          "base_uri": "https://localhost:8080/"
        },
        "outputId": "0c2f6913-d758-4507-8662-3c5b6881089a"
      },
      "source": [
        "#print type of a and b variable\n",
        "print(type(a))\n",
        "print(type(b))\n"
      ],
      "execution_count": 8,
      "outputs": [
        {
          "output_type": "stream",
          "text": [
            "<class 'numpy.ndarray'>\n",
            "<class 'numpy.ndarray'>\n"
          ],
          "name": "stdout"
        }
      ]
    },
    {
      "cell_type": "code",
      "metadata": {
        "id": "OTVT8pgTmkEa",
        "colab": {
          "base_uri": "https://localhost:8080/"
        },
        "outputId": "d73f81f0-8610-42d5-87ab-b7ab2618e944"
      },
      "source": [
        "# Lets check length of array b, using len() function\n",
        "print(len(b))"
      ],
      "execution_count": 9,
      "outputs": [
        {
          "output_type": "stream",
          "text": [
            "3\n"
          ],
          "name": "stdout"
        }
      ]
    },
    {
      "cell_type": "markdown",
      "metadata": {
        "id": "qBjfuKromkEa"
      },
      "source": [
        "Bravo!You have Defined ndarray i.e numpy array in variable a nd b. Also you have successfully learned how to create numpy. "
      ]
    },
    {
      "cell_type": "markdown",
      "metadata": {
        "id": "H1laXIw4mkEb"
      },
      "source": [
        "## Performance measurement\n",
        "\n",
        "I mentioned that the key advantages of numpy are convenience and speed of computation.\n",
        "\n",
        "You'll often work with extremely large datasets, and thus it is important point for you to understand how much computation time (and memory) you can save using numpy, compared to standard python lists.\n",
        "\n",
        "<p style='text-align: right;'> 2 points </p>\n"
      ]
    },
    {
      "cell_type": "markdown",
      "metadata": {
        "id": "AJeJi3h_mkEb"
      },
      "source": [
        "Create two list l1 and l2 where, l1=[10,20,30] and l2=[40,50,60]\n",
        "Also define two numpy arrays l3,l4 where l3 has l1 as element and l4 has l2 as element\n"
      ]
    },
    {
      "cell_type": "code",
      "metadata": {
        "id": "q-Z6o1T6mkEb"
      },
      "source": [
        "# Define l1,l2,l3 and l4 as stated above.\n",
        "l1 = [10,20,30]\n",
        "l2 = [40,50,60]\n",
        "l3 = np.array(l1)\n",
        "l4 = np.array(l2)"
      ],
      "execution_count": 10,
      "outputs": []
    },
    {
      "cell_type": "markdown",
      "metadata": {
        "id": "GRI2vdTvmkEc"
      },
      "source": [
        "Lets multiply each elements of l1 with corresponding elements of l2\n",
        "\n",
        "Here use list comprehention to do so. Lets see how much you remember your work in other assignments.\n",
        "\n",
        "Note: use %timeit as prefix before your line of code inorder to calculate total time taken to run that line<br>\n",
        "eg. %timeit my_code"
      ]
    },
    {
      "cell_type": "code",
      "metadata": {
        "id": "-crtZ-PsmkEc",
        "colab": {
          "base_uri": "https://localhost:8080/"
        },
        "outputId": "92aea450-c7db-44f6-ed07-1830649df1cd"
      },
      "source": [
        "#code here as instructed above\n",
        "%timeit [i*j for i,j in zip(l1,l2)]\n"
      ],
      "execution_count": 11,
      "outputs": [
        {
          "output_type": "stream",
          "text": [
            "The slowest run took 7.00 times longer than the fastest. This could mean that an intermediate result is being cached.\n",
            "1000000 loops, best of 5: 617 ns per loop\n"
          ],
          "name": "stdout"
        }
      ]
    },
    {
      "cell_type": "markdown",
      "metadata": {
        "id": "bqIAXok0mkEc"
      },
      "source": [
        "Lets mulptiply l3 and l4\n",
        "\n",
        "Note: use %timeit as prefix before your line of code inorder to calculate total time taken to run that line"
      ]
    },
    {
      "cell_type": "code",
      "metadata": {
        "id": "eLUGrbFFmkEd",
        "colab": {
          "base_uri": "https://localhost:8080/"
        },
        "outputId": "826957ea-6c2c-4836-a8cb-6c09485628c4"
      },
      "source": [
        "#code here\n",
        "%timeit l3*l4"
      ],
      "execution_count": 12,
      "outputs": [
        {
          "output_type": "stream",
          "text": [
            "The slowest run took 39.90 times longer than the fastest. This could mean that an intermediate result is being cached.\n",
            "1000000 loops, best of 5: 725 ns per loop\n"
          ],
          "name": "stdout"
        }
      ]
    },
    {
      "cell_type": "markdown",
      "metadata": {
        "id": "wXH-585hmkEd"
      },
      "source": [
        "Don't worry if still your one line of code is running. Its because your system is calculating total time taken to run your code.\n",
        "\n",
        "Did you notice buddy! time taken to multiply two lists takes more time than multiplyimg two numpy array.\n",
        "Hence proved that numpy arrays are faster than lists.\n",
        "\n",
        "**Fun Fact time!:**\n",
        "\n",
        "You know in many data science interviews it is asked that what is the difference between list and array.<br>\n",
        "The answer is: https://www.youtube.com/watch?v=XI6PHo_gP4E\n",
        "\n"
      ]
    },
    {
      "cell_type": "markdown",
      "metadata": {
        "id": "rPs5gfvJmkEe"
      },
      "source": [
        "so in numpy arrays I can do everything without even writing a loop? yes... ohh wao"
      ]
    },
    {
      "cell_type": "markdown",
      "metadata": {
        "id": "DpbheZczmkEe"
      },
      "source": [
        "### Creating Numpy array\n",
        "\n",
        "\n",
        "There are multiple ways to create numpy array. Lets walk over them\n",
        "\n",
        "1. Using arrange() function <br>\n",
        "Refer: https://numpy.org/doc/stable/reference/generated/numpy.arange.html\n",
        "\n",
        "<p style='text-align: right;'> 8 points </p>\n"
      ]
    },
    {
      "cell_type": "code",
      "metadata": {
        "id": "eYtMmzA9mkEe",
        "colab": {
          "base_uri": "https://localhost:8080/"
        },
        "outputId": "9e6f95e3-5822-4677-9abb-8252f84a8536"
      },
      "source": [
        "#Create a numpy array using arange with 1 and 11 as parameter in it\n",
        "arr = np.arange(1,11)\n",
        "print(arr)"
      ],
      "execution_count": 13,
      "outputs": [
        {
          "output_type": "stream",
          "text": [
            "[ 1  2  3  4  5  6  7  8  9 10]\n"
          ],
          "name": "stdout"
        }
      ]
    },
    {
      "cell_type": "markdown",
      "metadata": {
        "id": "LYdEqfBFmkEf"
      },
      "source": [
        "This means using arrange we get evenly spaced values within a given interval. Interval? Yes you can mention interval as well as third parameter in it."
      ]
    },
    {
      "cell_type": "code",
      "metadata": {
        "id": "0iH3pwxhmkEf",
        "colab": {
          "base_uri": "https://localhost:8080/"
        },
        "outputId": "5dfce811-c5a3-4fbc-855a-6b65d79a7051"
      },
      "source": [
        "# Create an array using arange passing 1,11 and 2 as parameters\n",
        "arrint = np.arange(1,11,2)\n",
        "print(arrint)"
      ],
      "execution_count": 14,
      "outputs": [
        {
          "output_type": "stream",
          "text": [
            "[1 3 5 7 9]\n"
          ],
          "name": "stdout"
        }
      ]
    },
    {
      "cell_type": "markdown",
      "metadata": {
        "id": "nBcbuxexmkEf"
      },
      "source": [
        "Did you see? you got all odd numbers as you had mentioned interval between 1 and 10. Also note that 11 is excluded and hence arrange function counted till 10\n",
        "\n",
        "2. Using eye Function <br>\n",
        "Refer: https://numpy.org/devdocs/reference/generated/numpy.eye.html"
      ]
    },
    {
      "cell_type": "code",
      "metadata": {
        "id": "CzGk00IUmkEg",
        "colab": {
          "base_uri": "https://localhost:8080/"
        },
        "outputId": "53f721a6-2a78-463b-f1eb-48da1cc78854"
      },
      "source": [
        "# create numpy array using eye function with 3 as passed parameter\n",
        "np.eye(3)"
      ],
      "execution_count": 15,
      "outputs": [
        {
          "output_type": "execute_result",
          "data": {
            "text/plain": [
              "array([[1., 0., 0.],\n",
              "       [0., 1., 0.],\n",
              "       [0., 0., 1.]])"
            ]
          },
          "metadata": {
            "tags": []
          },
          "execution_count": 15
        }
      ]
    },
    {
      "cell_type": "markdown",
      "metadata": {
        "id": "YZ_ss452mkEg"
      },
      "source": [
        "Wohoo! eye return a 2-D array with ones on the diagonal and zeros elsewhere.\n",
        "\n",
        "3. Using zero function<br>\n",
        "Refer: https://numpy.org/doc/stable/reference/generated/numpy.zeros.html"
      ]
    },
    {
      "cell_type": "code",
      "metadata": {
        "id": "qVpuB-BRmkEh",
        "colab": {
          "base_uri": "https://localhost:8080/"
        },
        "outputId": "80548f21-3d66-450e-d61c-a485dd3a0811"
      },
      "source": [
        "#create a numpy array using zero function with (3,2) as passed parameter\n",
        "\n",
        "np.zeros((3,2))"
      ],
      "execution_count": 16,
      "outputs": [
        {
          "output_type": "execute_result",
          "data": {
            "text/plain": [
              "array([[0., 0.],\n",
              "       [0., 0.],\n",
              "       [0., 0.]])"
            ]
          },
          "metadata": {
            "tags": []
          },
          "execution_count": 16
        }
      ]
    },
    {
      "cell_type": "markdown",
      "metadata": {
        "id": "f2aAupU7mkEh"
      },
      "source": [
        "Zero function returns a new array of given shape and type, filled with zeros.\n",
        "\n",
        "4. Using ones Function <br>\n",
        "Refer: https://numpy.org/doc/stable/reference/generated/numpy.ones.html"
      ]
    },
    {
      "cell_type": "code",
      "metadata": {
        "id": "9CjXfxLAmkEi",
        "colab": {
          "base_uri": "https://localhost:8080/"
        },
        "outputId": "31e4a3da-e034-46a7-8aa1-98fd77049fa8"
      },
      "source": [
        "#create a numpy array using ones function with (3,2) as passed parameter\n",
        "np.ones((3,2,),dtype=int)\n"
      ],
      "execution_count": 17,
      "outputs": [
        {
          "output_type": "execute_result",
          "data": {
            "text/plain": [
              "array([[1, 1],\n",
              "       [1, 1],\n",
              "       [1, 1]])"
            ]
          },
          "metadata": {
            "tags": []
          },
          "execution_count": 17
        }
      ]
    },
    {
      "cell_type": "markdown",
      "metadata": {
        "id": "K4s_cVcZmkEi"
      },
      "source": [
        "You noticed! ones function returns a new array of given shape and type, filled with ones.\n",
        "\n",
        "5. Using full Function<br>\n",
        "Refer: https://numpy.org/doc/stable/reference/generated/numpy.full.html"
      ]
    },
    {
      "cell_type": "code",
      "metadata": {
        "id": "f-KK3sPKmkEj",
        "colab": {
          "base_uri": "https://localhost:8080/"
        },
        "outputId": "616700c6-ffd4-43fc-a670-4d0ee5ab424d"
      },
      "source": [
        "#create a numpy array using full function with (3,2) and 2 as passed parameter\n",
        "np.full((3,2),2)\n"
      ],
      "execution_count": 18,
      "outputs": [
        {
          "output_type": "execute_result",
          "data": {
            "text/plain": [
              "array([[2, 2],\n",
              "       [2, 2],\n",
              "       [2, 2]])"
            ]
          },
          "metadata": {
            "tags": []
          },
          "execution_count": 18
        }
      ]
    },
    {
      "cell_type": "markdown",
      "metadata": {
        "id": "JSUDdN9emkEj"
      },
      "source": [
        "Yeah! full function return a new array of given shape and type, filled with fill_value, here it is 2\n",
        "\n",
        "6. Using diag function<br>\n",
        "Refer: https://numpy.org/doc/stable/reference/generated/numpy.diag.html"
      ]
    },
    {
      "cell_type": "code",
      "metadata": {
        "id": "S2rNI1ygmkEk",
        "colab": {
          "base_uri": "https://localhost:8080/"
        },
        "outputId": "2209b8f3-63c2-4a14-d863-b8f2b9c25a92"
      },
      "source": [
        "#create a numpy array using diag function passing a list [1,2,3,4,5]\n",
        "\n",
        "np.diag(np.arange(1,6))"
      ],
      "execution_count": 19,
      "outputs": [
        {
          "output_type": "execute_result",
          "data": {
            "text/plain": [
              "array([[1, 0, 0, 0, 0],\n",
              "       [0, 2, 0, 0, 0],\n",
              "       [0, 0, 3, 0, 0],\n",
              "       [0, 0, 0, 4, 0],\n",
              "       [0, 0, 0, 0, 5]])"
            ]
          },
          "metadata": {
            "tags": []
          },
          "execution_count": 19
        }
      ]
    },
    {
      "cell_type": "markdown",
      "metadata": {
        "id": "YNe99UdJmkEk"
      },
      "source": [
        "Oh yeah! diag function extract a diagonal or construct a diagonal array.\n",
        "\n",
        " 7. Using tile function<br>\n",
        "    Refer: https://numpy.org/doc/stable/reference/generated/numpy.tile.html"
      ]
    },
    {
      "cell_type": "code",
      "metadata": {
        "id": "48dgvTmamkEl",
        "colab": {
          "base_uri": "https://localhost:8080/"
        },
        "outputId": "43fb4710-765e-47f2-be89-7b24beabe902"
      },
      "source": [
        "# Create a numpy array v with [1,2,3] as its elements\n",
        "v = np.array([1,2,3])\n",
        "\n",
        "#Use tile function of numpy and pass v and (3,1) as its parametrs\n",
        "np.tile(v,[3,1])\n"
      ],
      "execution_count": 20,
      "outputs": [
        {
          "output_type": "execute_result",
          "data": {
            "text/plain": [
              "array([[1, 2, 3],\n",
              "       [1, 2, 3],\n",
              "       [1, 2, 3]])"
            ]
          },
          "metadata": {
            "tags": []
          },
          "execution_count": 20
        }
      ]
    },
    {
      "cell_type": "markdown",
      "metadata": {
        "id": "55JPWTSLmkEl"
      },
      "source": [
        "Returns an array by repeating an input array the number of times given by mentioned shape.\n",
        "Here you can see that you stacked 3 copies of v on top of each other\n",
        "\n",
        "8. Using linspace Function<br>\n",
        "Refer: https://numpy.org/doc/stable/reference/generated/numpy.linspace.html"
      ]
    },
    {
      "cell_type": "code",
      "metadata": {
        "id": "Ud_5eBISmkEl",
        "colab": {
          "base_uri": "https://localhost:8080/"
        },
        "outputId": "29a33f42-c1ff-4a06-9397-1c2e722d9361"
      },
      "source": [
        "# Create an array with 100 values between 1 and 50 using linspace\n",
        "np.linspace(1,50,num=100)"
      ],
      "execution_count": 21,
      "outputs": [
        {
          "output_type": "execute_result",
          "data": {
            "text/plain": [
              "array([ 1.        ,  1.49494949,  1.98989899,  2.48484848,  2.97979798,\n",
              "        3.47474747,  3.96969697,  4.46464646,  4.95959596,  5.45454545,\n",
              "        5.94949495,  6.44444444,  6.93939394,  7.43434343,  7.92929293,\n",
              "        8.42424242,  8.91919192,  9.41414141,  9.90909091, 10.4040404 ,\n",
              "       10.8989899 , 11.39393939, 11.88888889, 12.38383838, 12.87878788,\n",
              "       13.37373737, 13.86868687, 14.36363636, 14.85858586, 15.35353535,\n",
              "       15.84848485, 16.34343434, 16.83838384, 17.33333333, 17.82828283,\n",
              "       18.32323232, 18.81818182, 19.31313131, 19.80808081, 20.3030303 ,\n",
              "       20.7979798 , 21.29292929, 21.78787879, 22.28282828, 22.77777778,\n",
              "       23.27272727, 23.76767677, 24.26262626, 24.75757576, 25.25252525,\n",
              "       25.74747475, 26.24242424, 26.73737374, 27.23232323, 27.72727273,\n",
              "       28.22222222, 28.71717172, 29.21212121, 29.70707071, 30.2020202 ,\n",
              "       30.6969697 , 31.19191919, 31.68686869, 32.18181818, 32.67676768,\n",
              "       33.17171717, 33.66666667, 34.16161616, 34.65656566, 35.15151515,\n",
              "       35.64646465, 36.14141414, 36.63636364, 37.13131313, 37.62626263,\n",
              "       38.12121212, 38.61616162, 39.11111111, 39.60606061, 40.1010101 ,\n",
              "       40.5959596 , 41.09090909, 41.58585859, 42.08080808, 42.57575758,\n",
              "       43.07070707, 43.56565657, 44.06060606, 44.55555556, 45.05050505,\n",
              "       45.54545455, 46.04040404, 46.53535354, 47.03030303, 47.52525253,\n",
              "       48.02020202, 48.51515152, 49.01010101, 49.50505051, 50.        ])"
            ]
          },
          "metadata": {
            "tags": []
          },
          "execution_count": 21
        }
      ]
    },
    {
      "cell_type": "markdown",
      "metadata": {
        "id": "3OJhQQc9mkEn"
      },
      "source": [
        "Wao! linspace returns evenly spaced numbers over a specified interval.\n",
        "\n",
        "Hey but you saw some similar defination for arrange function\n",
        "\n",
        "The main difference both of them is that arange return values with in a range which has a space between values (in other words the step) and linspace returns set of samples with in a given interval.\n",
        "\n",
        "## Numpy Random numbers\n",
        "\n",
        "\n",
        "Fun Fact:\n",
        "\n",
        "You can create a numpy array with random numbers also. How? Uisng random function<br>\n",
        "Lets see how\n",
        "Refer: https://numpy.org/doc/stable/reference/random/generated/numpy.random.rand.html\n",
        "\n",
        "<p style='text-align: right;'> 3 points </p>\n"
      ]
    },
    {
      "cell_type": "code",
      "metadata": {
        "id": "tJeVt6vomkEn",
        "colab": {
          "base_uri": "https://localhost:8080/"
        },
        "outputId": "8399867f-c1ec-440f-8252-9499508bf3c8"
      },
      "source": [
        "# Generate one random number between 0 and 1 using numpy's random.rand() function.\n",
        "print(np.random.normal(0,1))\n"
      ],
      "execution_count": 22,
      "outputs": [
        {
          "output_type": "stream",
          "text": [
            "0.514875618374924\n"
          ],
          "name": "stdout"
        }
      ]
    },
    {
      "cell_type": "markdown",
      "metadata": {
        "id": "wq42b4n1mkEo"
      },
      "source": [
        "Run the above cell again and check if number changes.\n",
        "\n",
        "Yeah it changes. That's so random :)"
      ]
    },
    {
      "cell_type": "code",
      "metadata": {
        "id": "5u0PvzpmmkEo",
        "colab": {
          "base_uri": "https://localhost:8080/"
        },
        "outputId": "0272ccfe-bb41-425f-9220-fe0eee2f8e6a"
      },
      "source": [
        "# so let say I want a random value between 2 and 50\n",
        "np.random.normal(2,50)"
      ],
      "execution_count": 23,
      "outputs": [
        {
          "output_type": "execute_result",
          "data": {
            "text/plain": [
              "19.25736566106005"
            ]
          },
          "metadata": {
            "tags": []
          },
          "execution_count": 23
        }
      ]
    },
    {
      "cell_type": "markdown",
      "metadata": {
        "id": "RsZmMuUdmkEo"
      },
      "source": [
        "Run the above cell again and check if number changes and its between 2 to 50.\n",
        "\n",
        "Now lets create an array with random numbers 0 to 1 of shape 3X3"
      ]
    },
    {
      "cell_type": "code",
      "metadata": {
        "id": "mbH5i5EhmkEp",
        "colab": {
          "base_uri": "https://localhost:8080/"
        },
        "outputId": "75a04c04-9308-474a-de15-1ed5078be964"
      },
      "source": [
        "#get an array as stated above\n",
        "np.random.randn(3,3)"
      ],
      "execution_count": 28,
      "outputs": [
        {
          "output_type": "execute_result",
          "data": {
            "text/plain": [
              "array([[-0.19545464, -0.66383034, -0.56451345],\n",
              "       [-1.69484644,  1.3250654 ,  0.62964947],\n",
              "       [ 0.01233561,  0.58289642, -1.23299989]])"
            ]
          },
          "metadata": {
            "tags": []
          },
          "execution_count": 28
        }
      ]
    },
    {
      "cell_type": "markdown",
      "metadata": {
        "id": "H78MIPiLmkEp"
      },
      "source": [
        "Smile! you got it how to create a numpy array with random numbers.\n",
        "\n",
        "## Numpy Reshape\n",
        "\n",
        "Reference: https://www.youtube.com/watch?v=sGCuryS8zjc\n",
        "\n",
        "reference doc: https://numpy.org/doc/stable/reference/generated/numpy.reshape.html\n",
        "\n",
        "Reshaping means changing the shape of an array.\n",
        "The shape of an array is the number of elements in each dimension.\n",
        "By reshaping we can add or remove dimensions or change number of elements in each dimension.\n",
        "\n",
        "<p style='text-align: right;'> 6 points </p>\n"
      ]
    },
    {
      "cell_type": "code",
      "metadata": {
        "id": "CNFULjXhmkEp",
        "colab": {
          "base_uri": "https://localhost:8080/"
        },
        "outputId": "673aae96-06c8-45a9-b085-e6cf4ec9aab4"
      },
      "source": [
        "# Using arange() to generate numpy array x with numbers between 1 to 16\n",
        "x= np.arange(1,17)\n",
        "print(x)"
      ],
      "execution_count": 30,
      "outputs": [
        {
          "output_type": "stream",
          "text": [
            "[ 1  2  3  4  5  6  7  8  9 10 11 12 13 14 15 16]\n"
          ],
          "name": "stdout"
        }
      ]
    },
    {
      "cell_type": "markdown",
      "metadata": {
        "id": "tRhvBrEDmkEq"
      },
      "source": [
        "So here x is our 1-D array along with being sweet sixteen array ;). Lets reshape our x into 2-D and 3-D array using Reshape\n",
        "\n",
        "1. Reshaping 1-D to 2-D"
      ]
    },
    {
      "cell_type": "code",
      "metadata": {
        "id": "1QEcoMf9mkEq",
        "colab": {
          "base_uri": "https://localhost:8080/"
        },
        "outputId": "48a453b1-5730-419d-e3d8-59eaf2b76925"
      },
      "source": [
        "# Reshape x with 2 rows and 8 columns\n",
        "x.reshape(2,8)"
      ],
      "execution_count": 31,
      "outputs": [
        {
          "output_type": "execute_result",
          "data": {
            "text/plain": [
              "array([[ 1,  2,  3,  4,  5,  6,  7,  8],\n",
              "       [ 9, 10, 11, 12, 13, 14, 15, 16]])"
            ]
          },
          "metadata": {
            "tags": []
          },
          "execution_count": 31
        }
      ]
    },
    {
      "cell_type": "markdown",
      "metadata": {
        "id": "w6Pxzo-XmkEr"
      },
      "source": [
        "As you can see above that our x changed into 2D matrix\n",
        "\n",
        "2. Reshaping 1-D to 3-D array\n"
      ]
    },
    {
      "cell_type": "code",
      "metadata": {
        "id": "owOhuFBFmkEr",
        "colab": {
          "base_uri": "https://localhost:8080/"
        },
        "outputId": "0c7de4c3-0cc3-4083-850f-2ad8384144b4"
      },
      "source": [
        "# reshape x with dimension that will have 2 arrays that contains 4 arrays, each with 2 elements:\n",
        "x.reshape(2,4,2)"
      ],
      "execution_count": 32,
      "outputs": [
        {
          "output_type": "execute_result",
          "data": {
            "text/plain": [
              "array([[[ 1,  2],\n",
              "        [ 3,  4],\n",
              "        [ 5,  6],\n",
              "        [ 7,  8]],\n",
              "\n",
              "       [[ 9, 10],\n",
              "        [11, 12],\n",
              "        [13, 14],\n",
              "        [15, 16]]])"
            ]
          },
          "metadata": {
            "tags": []
          },
          "execution_count": 32
        }
      ]
    },
    {
      "cell_type": "markdown",
      "metadata": {
        "id": "TSBDowsbmkEs"
      },
      "source": [
        "**Fun Fact:**\n",
        "\n",
        "<u>Unknown Dimension</u>\n",
        "\n",
        "You are allowed to have one \"unknown\" dimension.Meaning that you do not have to specify an exact number for one of the dimensions in the reshape method.\n",
        "Pass -1 as the value, and NumPy will calculate this number for you. Awesome right?\n"
      ]
    },
    {
      "cell_type": "code",
      "metadata": {
        "id": "a1xnNnXNmkEs",
        "colab": {
          "base_uri": "https://localhost:8080/"
        },
        "outputId": "8feb4858-eead-4565-b908-3e4df00157d8"
      },
      "source": [
        "# Use unknown dimention to reshape x into 2-D numpy array with shape 4*4\n",
        "x.reshape(4,-1)"
      ],
      "execution_count": 33,
      "outputs": [
        {
          "output_type": "execute_result",
          "data": {
            "text/plain": [
              "array([[ 1,  2,  3,  4],\n",
              "       [ 5,  6,  7,  8],\n",
              "       [ 9, 10, 11, 12],\n",
              "       [13, 14, 15, 16]])"
            ]
          },
          "metadata": {
            "tags": []
          },
          "execution_count": 33
        }
      ]
    },
    {
      "cell_type": "code",
      "metadata": {
        "id": "sZWmSWH2mkEt",
        "colab": {
          "base_uri": "https://localhost:8080/"
        },
        "outputId": "023ae927-e559-4c77-ee4d-18fbbba560a2"
      },
      "source": [
        "# Use unknown dimention to  reshape x into 3-D numpy array with 2 arrays that contains 4 arrays\n",
        "y= x.reshape(2,4,-1)\n",
        "\n",
        "# print y\n",
        "print(y)"
      ],
      "execution_count": 34,
      "outputs": [
        {
          "output_type": "stream",
          "text": [
            "[[[ 1  2]\n",
            "  [ 3  4]\n",
            "  [ 5  6]\n",
            "  [ 7  8]]\n",
            "\n",
            " [[ 9 10]\n",
            "  [11 12]\n",
            "  [13 14]\n",
            "  [15 16]]]\n"
          ],
          "name": "stdout"
        }
      ]
    },
    {
      "cell_type": "markdown",
      "metadata": {
        "id": "dMkPOpximkEt"
      },
      "source": [
        "Note: We can not pass -1 to more than one dimension.\n",
        "\n",
        "Another cool Fact: -1 can be used to flatten an array which means converting a multidimensional array into a 1D array.\n",
        "\n",
        "    Lets apply this technique on y which is 3-D array"
      ]
    },
    {
      "cell_type": "code",
      "metadata": {
        "id": "D0v9qPGTmkEu",
        "colab": {
          "base_uri": "https://localhost:8080/"
        },
        "outputId": "a0f5899e-0bbc-4ade-d7a1-d4fb3adee08f"
      },
      "source": [
        "# Flattening y\n",
        "y.reshape(-1)\n"
      ],
      "execution_count": 35,
      "outputs": [
        {
          "output_type": "execute_result",
          "data": {
            "text/plain": [
              "array([ 1,  2,  3,  4,  5,  6,  7,  8,  9, 10, 11, 12, 13, 14, 15, 16])"
            ]
          },
          "metadata": {
            "tags": []
          },
          "execution_count": 35
        }
      ]
    },
    {
      "cell_type": "markdown",
      "metadata": {
        "id": "LSUSN4DKmkEu"
      },
      "source": [
        "Awesome work!\n",
        "\n",
        "## NumPy Array Indexing\n",
        "\n",
        "Reference: https://www.youtube.com/watch?v=bFv66_RXLb4\n",
        "\n",
        "Array indexing is the same as accessing an array element. You can access an array element by referring to its index number.\n",
        "\n",
        "The indexes in NumPy arrays start with 0, meaning that the first element has index 0, and the second has index 1 etc.\n",
        "\n",
        "<p style='text-align: right;'> 4 points </p>\n"
      ]
    },
    {
      "cell_type": "code",
      "metadata": {
        "id": "TYpqy26umkEu",
        "colab": {
          "base_uri": "https://localhost:8080/"
        },
        "outputId": "e70d47ed-53ba-411c-f1b2-285d09bf4449"
      },
      "source": [
        "# Create an array a with all even numbers between 1 to 17\n",
        "a = np.arange(2,17,2)\n",
        "\n",
        "# print a\n",
        "a"
      ],
      "execution_count": 42,
      "outputs": [
        {
          "output_type": "execute_result",
          "data": {
            "text/plain": [
              "array([ 2,  4,  6,  8, 10, 12, 14, 16])"
            ]
          },
          "metadata": {
            "tags": []
          },
          "execution_count": 42
        }
      ]
    },
    {
      "cell_type": "code",
      "metadata": {
        "id": "3lTbqP6UmkEv",
        "colab": {
          "base_uri": "https://localhost:8080/"
        },
        "outputId": "99b11c43-a120-4c95-9665-3aa0799b6954"
      },
      "source": [
        "# Get third element in array a\n",
        "print(a[2])"
      ],
      "execution_count": 43,
      "outputs": [
        {
          "output_type": "stream",
          "text": [
            "6\n"
          ],
          "name": "stdout"
        }
      ]
    },
    {
      "cell_type": "code",
      "metadata": {
        "id": "Ss_box5dmkEv",
        "colab": {
          "base_uri": "https://localhost:8080/"
        },
        "outputId": "2c856ddb-a362-49af-a5c1-292bf2f5c105"
      },
      "source": [
        "#Print 3rd, 5th, and 7th element in array a\n",
        "print(a[2],a[4],a[6])"
      ],
      "execution_count": 44,
      "outputs": [
        {
          "output_type": "stream",
          "text": [
            "6 10 14\n"
          ],
          "name": "stdout"
        }
      ]
    },
    {
      "cell_type": "markdown",
      "metadata": {
        "id": "Z44nM2K2mkEw"
      },
      "source": [
        "Lets check the same for 2 D array"
      ]
    },
    {
      "cell_type": "code",
      "metadata": {
        "id": "7l_AiqEdmkEw"
      },
      "source": [
        "# Define an array 2-D a with [[1,2,3],[4,5,6],[7,8,9]] as its elements.\n",
        "a = [[1,2,3],[4,5,6],[7,8,9]]"
      ],
      "execution_count": 64,
      "outputs": []
    },
    {
      "cell_type": "code",
      "metadata": {
        "id": "NoYXr7nMmkEw",
        "colab": {
          "base_uri": "https://localhost:8080/"
        },
        "outputId": "26f3d9b4-c890-4231-b2a5-8bca71557e8e"
      },
      "source": [
        "# print the 3rd element from the 3rd row of a\n",
        "print(a[2][2])"
      ],
      "execution_count": 65,
      "outputs": [
        {
          "output_type": "stream",
          "text": [
            "9\n"
          ],
          "name": "stdout"
        }
      ]
    },
    {
      "cell_type": "markdown",
      "metadata": {
        "id": "Kx610ochmkEw"
      },
      "source": [
        "Well done!\n",
        "\n",
        "Now lets check indexing for 3 D array "
      ]
    },
    {
      "cell_type": "code",
      "metadata": {
        "id": "MK9fslJNmkEx"
      },
      "source": [
        "# Define an array b again with [[[1, 2, 3], [4, 5, 6]], [[7, 8, 9], [10, 11, 12]]] as its elements.\n",
        "b = np.array([[[1, 2, 3], [4, 5, 6]], [[7, 8, 9], [10, 11, 12]]]) "
      ],
      "execution_count": 48,
      "outputs": []
    },
    {
      "cell_type": "code",
      "metadata": {
        "id": "Rp8HHMJ1mkEx",
        "colab": {
          "base_uri": "https://localhost:8080/"
        },
        "outputId": "b62f3212-30cb-4d2d-865f-68dc2c1140d3"
      },
      "source": [
        "# Print 3rd element from 2nd list which is 1st list in nested list passed. Confusing right? 'a' have nested array.Understand the braket differences.\n",
        "print(b[0][1][2])"
      ],
      "execution_count": 50,
      "outputs": [
        {
          "output_type": "stream",
          "text": [
            "6\n"
          ],
          "name": "stdout"
        }
      ]
    },
    {
      "cell_type": "markdown",
      "metadata": {
        "id": "3mI_VObVmkEx"
      },
      "source": [
        "Well done.!\n",
        "\n",
        "Have you heared about **negative indexing?**\n",
        "\n",
        "\n",
        "We can use negative indexing to access an array from the end."
      ]
    },
    {
      "cell_type": "code",
      "metadata": {
        "id": "b6ORL_cZmkEy",
        "colab": {
          "base_uri": "https://localhost:8080/"
        },
        "outputId": "bd73a9c1-111e-4b9e-b209-df9848fa63ea"
      },
      "source": [
        "# Print the second last element from the 2nd dim using negative indexing\n",
        "print(a[-2][-2])"
      ],
      "execution_count": 66,
      "outputs": [
        {
          "output_type": "stream",
          "text": [
            "5\n"
          ],
          "name": "stdout"
        }
      ]
    },
    {
      "cell_type": "markdown",
      "metadata": {
        "id": "JNM-vUXZmkEy"
      },
      "source": [
        "Great job! \n",
        "So now you have learned how to to indexing on various dimentions of numpy array.\n",
        "\n",
        "## NumPy Array Slicing\n",
        "\n",
        "Reference: https://www.youtube.com/watch?v=fIXh-gmR7mQ\n",
        "\n",
        "Slicing in python means taking elements from one given index to another given index.\n",
        "\n",
        "    1. We pass slice instead of index like this: [start:end].\n",
        "    2. We can also define the step, like this: [start:end:step].\n",
        "    3. If we don't pass start its considered 0\n",
        "    4. If we don't pass end its considered length of array in that dimension\n",
        "    5. If we don't pass step its considered 1\n",
        "    \n",
        "<p style='text-align: right;'> 5 points </p>\n",
        "\n",
        "    \n",
        "1. **Array slicing in 1-D array.**"
      ]
    },
    {
      "cell_type": "code",
      "metadata": {
        "id": "NwLXUjUOmkEy",
        "colab": {
          "base_uri": "https://localhost:8080/"
        },
        "outputId": "35d554da-ad34-41b1-fdab-ab6fb6ae1642"
      },
      "source": [
        "arr=np.arange(1,11)\n",
        "arr"
      ],
      "execution_count": 52,
      "outputs": [
        {
          "output_type": "execute_result",
          "data": {
            "text/plain": [
              "array([ 1,  2,  3,  4,  5,  6,  7,  8,  9, 10])"
            ]
          },
          "metadata": {
            "tags": []
          },
          "execution_count": 52
        }
      ]
    },
    {
      "cell_type": "code",
      "metadata": {
        "id": "WjeB_2y7mkEz",
        "colab": {
          "base_uri": "https://localhost:8080/"
        },
        "outputId": "83a41058-27ff-416a-89ec-a3d681c4778e"
      },
      "source": [
        "# Slice elements from 1st to 5th element from array arr:\n",
        "arr[:5]\n"
      ],
      "execution_count": 54,
      "outputs": [
        {
          "output_type": "execute_result",
          "data": {
            "text/plain": [
              "array([1, 2, 3, 4, 5])"
            ]
          },
          "metadata": {
            "tags": []
          },
          "execution_count": 54
        }
      ]
    },
    {
      "cell_type": "markdown",
      "metadata": {
        "id": "w4Cwkj8zmkEz"
      },
      "source": [
        "Note: The result includes the start index, but excludes the end index.\n",
        "\n"
      ]
    },
    {
      "cell_type": "code",
      "metadata": {
        "id": "Vh0KCm7ImkEz",
        "colab": {
          "base_uri": "https://localhost:8080/"
        },
        "outputId": "fed85214-0e89-485b-b241-d87fd90fb73e"
      },
      "source": [
        "# Slice elements from index 5 to the end of the array arr:\n",
        "arr[5:]"
      ],
      "execution_count": 56,
      "outputs": [
        {
          "output_type": "execute_result",
          "data": {
            "text/plain": [
              "array([ 6,  7,  8,  9, 10])"
            ]
          },
          "metadata": {
            "tags": []
          },
          "execution_count": 56
        }
      ]
    },
    {
      "cell_type": "code",
      "metadata": {
        "id": "H4XJXMgzmkE0",
        "colab": {
          "base_uri": "https://localhost:8080/"
        },
        "outputId": "45588ee9-0e81-494c-aa0f-8fe999b07033"
      },
      "source": [
        "# Slice elements from the beginning to index 5 (not included) in array arr:\n",
        "arr[:4]\n"
      ],
      "execution_count": 57,
      "outputs": [
        {
          "output_type": "execute_result",
          "data": {
            "text/plain": [
              "array([1, 2, 3, 4])"
            ]
          },
          "metadata": {
            "tags": []
          },
          "execution_count": 57
        }
      ]
    },
    {
      "cell_type": "markdown",
      "metadata": {
        "id": "GSXkbmMymkE0"
      },
      "source": [
        "Have you heared about **Negative Slicing?**\n",
        "\n",
        "We can use the minus operator to refer to an index from the end:\n",
        "\n"
      ]
    },
    {
      "cell_type": "code",
      "metadata": {
        "id": "vK7vLNAkmkE0",
        "colab": {
          "base_uri": "https://localhost:8080/"
        },
        "outputId": "33b0359e-f035-4f77-a980-bcba46850a9e"
      },
      "source": [
        "# Slice from the index 3 from the end to index 1 from the end:\n",
        "\n",
        "arr[-4:-1]"
      ],
      "execution_count": 59,
      "outputs": [
        {
          "output_type": "execute_result",
          "data": {
            "text/plain": [
              "array([7, 8, 9])"
            ]
          },
          "metadata": {
            "tags": []
          },
          "execution_count": 59
        }
      ]
    },
    {
      "cell_type": "markdown",
      "metadata": {
        "id": "JHJUIOOAmkE1"
      },
      "source": [
        "**STEP**\n",
        "\n",
        "Use the step value to determine the step of the slicing:"
      ]
    },
    {
      "cell_type": "code",
      "metadata": {
        "id": "HT-rBlk4mkE1",
        "colab": {
          "base_uri": "https://localhost:8080/"
        },
        "outputId": "942e1218-293a-4c94-9e6b-01519e3f3723"
      },
      "source": [
        "# Print every other element from index 1 to index 7:\n",
        "\n",
        "arr[:7:2]"
      ],
      "execution_count": 60,
      "outputs": [
        {
          "output_type": "execute_result",
          "data": {
            "text/plain": [
              "array([1, 3, 5, 7])"
            ]
          },
          "metadata": {
            "tags": []
          },
          "execution_count": 60
        }
      ]
    },
    {
      "cell_type": "markdown",
      "metadata": {
        "id": "RqWt1Mq4mkE1"
      },
      "source": [
        "Did you see? using step you were able to get alternate elements within specified index numbers."
      ]
    },
    {
      "cell_type": "code",
      "metadata": {
        "id": "0k7eNlD0mkE1",
        "colab": {
          "base_uri": "https://localhost:8080/"
        },
        "outputId": "cfda805a-f819-45c6-ec59-479324904edf"
      },
      "source": [
        "# Return every other element from the entire array arr:\n",
        "arr[::2]"
      ],
      "execution_count": 61,
      "outputs": [
        {
          "output_type": "execute_result",
          "data": {
            "text/plain": [
              "array([1, 3, 5, 7, 9])"
            ]
          },
          "metadata": {
            "tags": []
          },
          "execution_count": 61
        }
      ]
    },
    {
      "cell_type": "markdown",
      "metadata": {
        "id": "FoUc_RJnmkE2"
      },
      "source": [
        "well done!\n",
        "\n",
        "Lets do some slicing on 2-D array also. We already have 'a' as our 2-D array. We will use it here.\n",
        "\n",
        "**2. Array slicing in 2-D array.**"
      ]
    },
    {
      "cell_type": "code",
      "metadata": {
        "id": "ws3UW4YdmkE2",
        "colab": {
          "base_uri": "https://localhost:8080/"
        },
        "outputId": "99ad0e93-33d9-48da-eaee-9ebbca6d7271"
      },
      "source": [
        "# Print array a\n",
        "a = np.array([[1,2,3],[4,5,6],[7,8,9]])\n",
        "a"
      ],
      "execution_count": 76,
      "outputs": [
        {
          "output_type": "execute_result",
          "data": {
            "text/plain": [
              "array([[1, 2, 3],\n",
              "       [4, 5, 6],\n",
              "       [7, 8, 9]])"
            ]
          },
          "metadata": {
            "tags": []
          },
          "execution_count": 76
        }
      ]
    },
    {
      "cell_type": "code",
      "metadata": {
        "id": "pmRH9VkemkE3",
        "colab": {
          "base_uri": "https://localhost:8080/"
        },
        "outputId": "df1f8321-9ff9-4189-b361-8056e2f56caf"
      },
      "source": [
        "# From the third element, slice elements from index 1 to index 5 (not included) from array 'a'\n",
        "\n",
        "a[1:,1:]"
      ],
      "execution_count": 77,
      "outputs": [
        {
          "output_type": "execute_result",
          "data": {
            "text/plain": [
              "array([[5, 6],\n",
              "       [8, 9]])"
            ]
          },
          "metadata": {
            "tags": []
          },
          "execution_count": 77
        }
      ]
    },
    {
      "cell_type": "code",
      "metadata": {
        "id": "CdUMloxJmkE4",
        "colab": {
          "base_uri": "https://localhost:8080/"
        },
        "outputId": "3908c19f-63f3-4533-aad1-816fa9c74e03"
      },
      "source": [
        "# In array 'a' print index 2 from all the rows :\n",
        "a[:,1:2]\n"
      ],
      "execution_count": 78,
      "outputs": [
        {
          "output_type": "execute_result",
          "data": {
            "text/plain": [
              "array([[2],\n",
              "       [5],\n",
              "       [8]])"
            ]
          },
          "metadata": {
            "tags": []
          },
          "execution_count": 78
        }
      ]
    },
    {
      "cell_type": "code",
      "metadata": {
        "id": "snp_qcTkmkE4",
        "colab": {
          "base_uri": "https://localhost:8080/"
        },
        "outputId": "7872b76f-8b92-4557-c116-f7f56280b027"
      },
      "source": [
        "# From all the elements in 'a', slice index 1 till end, this will return a 2-D array:\n",
        "\n",
        "a[1:,:]"
      ],
      "execution_count": 79,
      "outputs": [
        {
          "output_type": "execute_result",
          "data": {
            "text/plain": [
              "array([[4, 5, 6],\n",
              "       [7, 8, 9]])"
            ]
          },
          "metadata": {
            "tags": []
          },
          "execution_count": 79
        }
      ]
    },
    {
      "cell_type": "markdown",
      "metadata": {
        "id": "ePT79PnbmkE4"
      },
      "source": [
        "Hurray! You have learned Slicing in Numpy array. Now you know to access any numpy array."
      ]
    },
    {
      "cell_type": "markdown",
      "metadata": {
        "id": "svy1JTgQmkE5"
      },
      "source": [
        "## Numpy copy vs view\n",
        "\n",
        "Reference: https://www.youtube.com/watch?v=h2db8BLWyVw\n",
        "\n",
        "<p style='text-align: right;'> 7 points </p>\n"
      ]
    },
    {
      "cell_type": "code",
      "metadata": {
        "id": "Qed74lpcmkE5"
      },
      "source": [
        "x1= np.arange(10)"
      ],
      "execution_count": 80,
      "outputs": []
    },
    {
      "cell_type": "code",
      "metadata": {
        "id": "TXeDgx3TmkE5"
      },
      "source": [
        "# assign x2 = x1\n",
        "x2 = x1"
      ],
      "execution_count": 81,
      "outputs": []
    },
    {
      "cell_type": "code",
      "metadata": {
        "id": "R1GmnB-TmkE5",
        "colab": {
          "base_uri": "https://localhost:8080/"
        },
        "outputId": "d18bec55-ccbd-4327-e80b-7f0d0ddf21ca"
      },
      "source": [
        "#print x1 and x2\n",
        "\n",
        "print(x1)\n",
        "print(x2)"
      ],
      "execution_count": 82,
      "outputs": [
        {
          "output_type": "stream",
          "text": [
            "[0 1 2 3 4 5 6 7 8 9]\n",
            "[0 1 2 3 4 5 6 7 8 9]\n"
          ],
          "name": "stdout"
        }
      ]
    },
    {
      "cell_type": "markdown",
      "metadata": {
        "id": "TyXa7J2xmkE6"
      },
      "source": [
        "Ok now you have seen that both of them are same "
      ]
    },
    {
      "cell_type": "code",
      "metadata": {
        "id": "HhIONVSamkE6"
      },
      "source": [
        "# change 1st element of x2 as 10\n",
        "x2[1] = 10"
      ],
      "execution_count": 83,
      "outputs": []
    },
    {
      "cell_type": "code",
      "metadata": {
        "id": "MzNLoycamkE6",
        "colab": {
          "base_uri": "https://localhost:8080/"
        },
        "outputId": "7a3a1784-c44b-4d0b-b1bc-bacb298e6010"
      },
      "source": [
        "#Again print x1 and x2\n",
        "print(x1)\n",
        "print(x2)"
      ],
      "execution_count": 85,
      "outputs": [
        {
          "output_type": "stream",
          "text": [
            "[ 0 10  2  3  4  5  6  7  8  9]\n",
            "[ 0 10  2  3  4  5  6  7  8  9]\n"
          ],
          "name": "stdout"
        }
      ]
    },
    {
      "cell_type": "markdown",
      "metadata": {
        "id": "NRE_00c5mkE6"
      },
      "source": [
        "Wait a minute. Just check your above result on change of x2, x1 also got changed. Why?\n",
        "\n",
        "Lets check if both the variables shares memory. Use numpy shares_memory() function to check if both x1 and x2 shares a  memory.\n",
        "\n",
        "Refer: https://numpy.org/doc/stable/reference/generated/numpy.shares_memory.html"
      ]
    },
    {
      "cell_type": "code",
      "metadata": {
        "id": "y5Ys1EtlmkE7",
        "colab": {
          "base_uri": "https://localhost:8080/"
        },
        "outputId": "90514596-9f17-401c-a46f-cedb22fdb1b8"
      },
      "source": [
        "# Check memory share between x1 and x2\n",
        "np.shares_memory(x1,x2)"
      ],
      "execution_count": 86,
      "outputs": [
        {
          "output_type": "execute_result",
          "data": {
            "text/plain": [
              "True"
            ]
          },
          "metadata": {
            "tags": []
          },
          "execution_count": 86
        }
      ]
    },
    {
      "cell_type": "markdown",
      "metadata": {
        "id": "gDGNBf7AmkE7"
      },
      "source": [
        "Hey It's True they both share memory\n",
        "\n",
        "Shall we try **view()** function also likwise."
      ]
    },
    {
      "cell_type": "code",
      "metadata": {
        "id": "EXve7D51mkE7"
      },
      "source": [
        "# Create a view of x1 and store it in x3.\n",
        "x3 = x1.view()"
      ],
      "execution_count": 87,
      "outputs": []
    },
    {
      "cell_type": "code",
      "metadata": {
        "id": "sFGL9opQmkE7",
        "colab": {
          "base_uri": "https://localhost:8080/"
        },
        "outputId": "83400303-b4e1-401f-c538-de9030d4dd91"
      },
      "source": [
        "# Again check memory share between x1 and x3\n",
        "np.shares_memory(x3,x1)"
      ],
      "execution_count": 88,
      "outputs": [
        {
          "output_type": "execute_result",
          "data": {
            "text/plain": [
              "True"
            ]
          },
          "metadata": {
            "tags": []
          },
          "execution_count": 88
        }
      ]
    },
    {
      "cell_type": "markdown",
      "metadata": {
        "id": "DqdA8MOsmkE8"
      },
      "source": [
        "Woh! simple assignment is similar to view. That means \n",
        "The view does not own the data and any changes made to the view will affect the original array, and any changes made to the original array will affect the view.\n",
        "\n",
        "Don't agree? ok lets change x3 and see if original array i.e. x1 also changes"
      ]
    },
    {
      "cell_type": "code",
      "metadata": {
        "id": "9icIkGdwmkE8"
      },
      "source": [
        "#Change 1st element of x3=100\n",
        "x3[1] = 100"
      ],
      "execution_count": 89,
      "outputs": []
    },
    {
      "cell_type": "code",
      "metadata": {
        "id": "ah6efc6_mkE8",
        "colab": {
          "base_uri": "https://localhost:8080/"
        },
        "outputId": "c2cab156-c8c9-4648-cf79-391186512fe5"
      },
      "source": [
        "#print x1 and x3 to check if changes reflected in both\n",
        "print(x1,x3)"
      ],
      "execution_count": 90,
      "outputs": [
        {
          "output_type": "stream",
          "text": [
            "[  0 100   2   3   4   5   6   7   8   9] [  0 100   2   3   4   5   6   7   8   9]\n"
          ],
          "name": "stdout"
        }
      ]
    },
    {
      "cell_type": "markdown",
      "metadata": {
        "id": "SoKilOCFmkE8"
      },
      "source": [
        "Now its proved.\n",
        "\n",
        "Lets see how **Copy()** function works"
      ]
    },
    {
      "cell_type": "code",
      "metadata": {
        "id": "7Q16v7QsmkE9"
      },
      "source": [
        "# Now create an array x4 which is copy of x1\n",
        "\n",
        "x4=x1.copy()"
      ],
      "execution_count": 91,
      "outputs": []
    },
    {
      "cell_type": "code",
      "metadata": {
        "id": "JSGLry1CmkE9"
      },
      "source": [
        "# Change the last element of x4 as 900\n",
        "x4[-1] = 900"
      ],
      "execution_count": 92,
      "outputs": []
    },
    {
      "cell_type": "code",
      "metadata": {
        "id": "2sZo0GRLmkE9",
        "colab": {
          "base_uri": "https://localhost:8080/"
        },
        "outputId": "73fb0820-9ab9-489e-ea04-ac3c4b8621bf"
      },
      "source": [
        "# print both x1 and x4 to check if changes reflected in both\n",
        "print(f'x1 = {x1}')\n",
        "print(f'x4 = {x4}')"
      ],
      "execution_count": 93,
      "outputs": [
        {
          "output_type": "stream",
          "text": [
            "x1 = [  0 100   2   3   4   5   6   7   8   9]\n",
            "x4 = [  0 100   2   3   4   5   6   7   8 900]\n"
          ],
          "name": "stdout"
        }
      ]
    },
    {
      "cell_type": "markdown",
      "metadata": {
        "id": "8ufiHmCXmkE9"
      },
      "source": [
        "Hey! such an intresting output. You noticed buddy! your original array didn't get changed on change of its copy ie. x4.\n",
        "\n",
        "Still not convinced? Ok lets see if they both share memory or not"
      ]
    },
    {
      "cell_type": "code",
      "metadata": {
        "id": "pTwog9UdmkE-",
        "colab": {
          "base_uri": "https://localhost:8080/"
        },
        "outputId": "07517df8-29d1-4b67-e9f6-4f8a29f13cda"
      },
      "source": [
        "#Check memory share between x1 and x4\n",
        "np.shares_memory(x1,x4)"
      ],
      "execution_count": 94,
      "outputs": [
        {
          "output_type": "execute_result",
          "data": {
            "text/plain": [
              "False"
            ]
          },
          "metadata": {
            "tags": []
          },
          "execution_count": 94
        }
      ]
    },
    {
      "cell_type": "markdown",
      "metadata": {
        "id": "MuA4gUQdmkE-"
      },
      "source": [
        "You see! x1 and x4 don't share its memory. \n",
        "\n",
        "So with all our outputs we can takeaway few points:\n",
        "\n",
        "    1. The main difference between a copy and a view of an array is that the copy is a new array, and the view is just a view of the original array.\n",
        "\n",
        "    2. The copy owns the data and any changes made to the copy will not affect original array, and any changes made to the original array will not affect the copy.\n",
        "\n",
        "    3. The view does not own the data and any changes made to the view will affect the original array, and any changes made to the original array will affect the view."
      ]
    },
    {
      "cell_type": "markdown",
      "metadata": {
        "id": "lenOzDiCmkE-"
      },
      "source": [
        "## More operations on Numpy\n",
        "\n",
        "**1. Applying conditions**\n",
        "\n",
        "Reference: https://thispointer.com/python-numpy-select-elements-or-indices-by-conditions-from-numpy-array/\n",
        "\n",
        "<p style='text-align: right;'> 5 points </p>\n"
      ]
    },
    {
      "cell_type": "code",
      "metadata": {
        "id": "dHMSl8_4mkE-",
        "colab": {
          "base_uri": "https://localhost:8080/"
        },
        "outputId": "16c0d80c-8839-42dd-c124-2893f1214dbd"
      },
      "source": [
        "#print a\n",
        "a"
      ],
      "execution_count": 95,
      "outputs": [
        {
          "output_type": "execute_result",
          "data": {
            "text/plain": [
              "array([[1, 2, 3],\n",
              "       [4, 5, 6],\n",
              "       [7, 8, 9]])"
            ]
          },
          "metadata": {
            "tags": []
          },
          "execution_count": 95
        }
      ]
    },
    {
      "cell_type": "markdown",
      "metadata": {
        "id": "JAN3PcyJmkE_"
      },
      "source": [
        "We are going to use 'a' array for all our array condition operations.\n"
      ]
    },
    {
      "cell_type": "code",
      "metadata": {
        "id": "6bI266pYmkE_",
        "colab": {
          "base_uri": "https://localhost:8080/"
        },
        "outputId": "86deebc2-d159-427a-fd5d-ba69c208ba47"
      },
      "source": [
        "# Check if every element in array a greater than 3 or not Using '>' notation\n",
        "boolarr = a>3\n",
        "print(boolarr)"
      ],
      "execution_count": 98,
      "outputs": [
        {
          "output_type": "stream",
          "text": [
            "[[False False False]\n",
            " [ True  True  True]\n",
            " [ True  True  True]]\n"
          ],
          "name": "stdout"
        }
      ]
    },
    {
      "cell_type": "code",
      "metadata": {
        "id": "skSk2_JqmkE_",
        "colab": {
          "base_uri": "https://localhost:8080/"
        },
        "outputId": "f8a60345-98c8-4a8f-a385-1d3351195361"
      },
      "source": [
        "# Get a list with all elements of array 'a' grater than 3\n",
        "newarr = a[boolarr]\n",
        "print(newarr)"
      ],
      "execution_count": 100,
      "outputs": [
        {
          "output_type": "stream",
          "text": [
            "[4 5 6 7 8 9]\n"
          ],
          "name": "stdout"
        }
      ]
    },
    {
      "cell_type": "code",
      "metadata": {
        "id": "YnjgG6znmkE_",
        "colab": {
          "base_uri": "https://localhost:8080/"
        },
        "outputId": "3cdffe93-ef9e-492a-dabe-e867be76f207"
      },
      "source": [
        "# Get a list with all elements of array 'a' greater than 3 but less than 6\n",
        "na1 = a[(a>3) & (a<6)]\n",
        "print(na1)"
      ],
      "execution_count": 103,
      "outputs": [
        {
          "output_type": "stream",
          "text": [
            "[4 5]\n"
          ],
          "name": "stdout"
        }
      ]
    },
    {
      "cell_type": "code",
      "metadata": {
        "id": "lyKzyOm5mkFA",
        "colab": {
          "base_uri": "https://localhost:8080/"
        },
        "outputId": "5977a0a9-3754-4d7d-bd2b-bbe10cfaa609"
      },
      "source": [
        "# check if each elements in array 'x1' equals array 'x4' using '==' notation\n",
        "tr = x1==x4\n",
        "print(tr)"
      ],
      "execution_count": 105,
      "outputs": [
        {
          "output_type": "stream",
          "text": [
            "[ True  True  True  True  True  True  True  True  True False]\n"
          ],
          "name": "stdout"
        }
      ]
    },
    {
      "cell_type": "markdown",
      "metadata": {
        "id": "pQ3wOIJJmkFA"
      },
      "source": [
        "You can see in above output that the last element is not same in both x1 and x4\n",
        "\n",
        "Well done so far.\n",
        "\n",
        "Lets check how to transpose an array\n",
        "\n",
        "**2. Transposing array**\n",
        "\n",
        "Reference: https://www.youtube.com/watch?v=8qpMys9ptBs"
      ]
    },
    {
      "cell_type": "code",
      "metadata": {
        "id": "p7eUH9GAmkFA",
        "colab": {
          "base_uri": "https://localhost:8080/"
        },
        "outputId": "50f5224d-5d2a-4246-843f-61c3163e83f6"
      },
      "source": [
        "# Print Transpose of array 'a'\n",
        "print(np.transpose(a))\n",
        "#print array 'a'\n",
        "print(\"-----------------\")\n",
        "print(a)\n"
      ],
      "execution_count": 106,
      "outputs": [
        {
          "output_type": "stream",
          "text": [
            "[[1 4 7]\n",
            " [2 5 8]\n",
            " [3 6 9]]\n",
            "-----------------\n",
            "[[1 2 3]\n",
            " [4 5 6]\n",
            " [7 8 9]]\n"
          ],
          "name": "stdout"
        }
      ]
    },
    {
      "cell_type": "markdown",
      "metadata": {
        "id": "rkGawhyTmkFB"
      },
      "source": [
        "In above output all the rows became columns by transposing "
      ]
    },
    {
      "cell_type": "markdown",
      "metadata": {
        "id": "uC7v5BkrmkFB"
      },
      "source": [
        "**3. hstack vs vstack function**\n",
        "\n",
        "Reference: https://www.youtube.com/watch?v=p1bsYXwg97Q\n",
        "\n",
        "Stacking is same as concatenation, the only difference is that stacking is done along a new axis.\n",
        "\n",
        "NumPy provides a helper function: \n",
        "\n",
        "1. hstack() to stack along rows.\n",
        "2. vstack()  to stack along columns\n",
        "\n",
        "You wanna see how? Then here we go...!\n",
        "\n",
        "reference doc: https://scipython.com/book/chapter-6-numpy/examples/vstack-and-hstack/"
      ]
    },
    {
      "cell_type": "code",
      "metadata": {
        "id": "kwt-fVLrmkFB",
        "colab": {
          "base_uri": "https://localhost:8080/"
        },
        "outputId": "ec7b6b74-a558-4c14-f1e8-ef916f481f60"
      },
      "source": [
        "# stack x1 and x4 along columns.\n",
        "print(x1)\n",
        "print(x4)\n",
        "np.hstack((x1,x4))"
      ],
      "execution_count": 109,
      "outputs": [
        {
          "output_type": "stream",
          "text": [
            "[  0 100   2   3   4   5   6   7   8   9]\n",
            "[  0 100   2   3   4   5   6   7   8 900]\n"
          ],
          "name": "stdout"
        },
        {
          "output_type": "execute_result",
          "data": {
            "text/plain": [
              "array([  0, 100,   2,   3,   4,   5,   6,   7,   8,   9,   0, 100,   2,\n",
              "         3,   4,   5,   6,   7,   8, 900])"
            ]
          },
          "metadata": {
            "tags": []
          },
          "execution_count": 109
        }
      ]
    },
    {
      "cell_type": "code",
      "metadata": {
        "id": "G2MCPiVBmkFC",
        "colab": {
          "base_uri": "https://localhost:8080/"
        },
        "outputId": "52b62e61-2a29-48e0-97d4-27647e9f80b7"
      },
      "source": [
        "#stack x1 and x4 along rows\n",
        "np.vstack((x1,x4))"
      ],
      "execution_count": 110,
      "outputs": [
        {
          "output_type": "execute_result",
          "data": {
            "text/plain": [
              "array([[  0, 100,   2,   3,   4,   5,   6,   7,   8,   9],\n",
              "       [  0, 100,   2,   3,   4,   5,   6,   7,   8, 900]])"
            ]
          },
          "metadata": {
            "tags": []
          },
          "execution_count": 110
        }
      ]
    },
    {
      "cell_type": "markdown",
      "metadata": {
        "id": "o52JFSqLmkFC"
      },
      "source": [
        "We hope now you saw the difference between them.\n",
        "\n",
        "Fun fact! you can even use concatenate() function to join 2 arrays along with the axis. If axis is not explicitly passed, it is taken as 0 ie. along column\n",
        "\n",
        "Lets try this function as well\n",
        "\n",
        "Reference: https://www.youtube.com/watch?v=X4zjs_wPxLU"
      ]
    },
    {
      "cell_type": "code",
      "metadata": {
        "id": "U2obeGoPmkFC",
        "colab": {
          "base_uri": "https://localhost:8080/"
        },
        "outputId": "50734da6-1ab6-4a06-f334-28d3893a5960"
      },
      "source": [
        "arr1 = np.array([[1, 2], [3, 4]])\n",
        "\n",
        "arr2 = np.array([[5, 6], [7, 8]])\n",
        "\n",
        "##join arr1 and arr2 along rows using concatenate() function\n",
        "np.concatenate((arr1,arr2))"
      ],
      "execution_count": 111,
      "outputs": [
        {
          "output_type": "execute_result",
          "data": {
            "text/plain": [
              "array([[1, 2],\n",
              "       [3, 4],\n",
              "       [5, 6],\n",
              "       [7, 8]])"
            ]
          },
          "metadata": {
            "tags": []
          },
          "execution_count": 111
        }
      ]
    },
    {
      "cell_type": "code",
      "metadata": {
        "id": "WvWPbw8wmkFC",
        "colab": {
          "base_uri": "https://localhost:8080/"
        },
        "outputId": "31bfa1ea-9357-4e92-f76d-ca0565c72e4d"
      },
      "source": [
        "##join arr1 and arr2 along columns using concatenate() function\n",
        "np.concatenate((arr1,arr2),axis=1)"
      ],
      "execution_count": 112,
      "outputs": [
        {
          "output_type": "execute_result",
          "data": {
            "text/plain": [
              "array([[1, 2, 5, 6],\n",
              "       [3, 4, 7, 8]])"
            ]
          },
          "metadata": {
            "tags": []
          },
          "execution_count": 112
        }
      ]
    },
    {
      "cell_type": "markdown",
      "metadata": {
        "id": "EKA2lWJfmkFD"
      },
      "source": [
        "## Adding, Insert and delete Numpy array\n",
        "\n",
        "Reference: https://www.youtube.com/watch?v=dEnCfapUbEw\n",
        "\n",
        "<p style='text-align: right;'> 3 points </p>\n"
      ]
    },
    {
      "cell_type": "markdown",
      "metadata": {
        "id": "8h3BAi8hmkFD"
      },
      "source": [
        "You can also add 2 arrays using append() function also. This function appends values to end of array\n",
        "\n",
        "Lets see how"
      ]
    },
    {
      "cell_type": "code",
      "metadata": {
        "id": "FbW-7QXvmkFD",
        "colab": {
          "base_uri": "https://localhost:8080/"
        },
        "outputId": "d06ba93b-bcf9-487f-d652-6e56d1181dbf"
      },
      "source": [
        "# append arr2 to arr1\n",
        "np.append(arr1,arr2)"
      ],
      "execution_count": 114,
      "outputs": [
        {
          "output_type": "execute_result",
          "data": {
            "text/plain": [
              "array([1, 2, 3, 4, 5, 6, 7, 8])"
            ]
          },
          "metadata": {
            "tags": []
          },
          "execution_count": 114
        }
      ]
    },
    {
      "cell_type": "markdown",
      "metadata": {
        "id": "Fqf3S-1FmkFD"
      },
      "source": [
        "Lets use insert() function which Inserts values into array before specified index value"
      ]
    },
    {
      "cell_type": "code",
      "metadata": {
        "id": "LTPWE7A2mkFE",
        "colab": {
          "base_uri": "https://localhost:8080/"
        },
        "outputId": "97a499c9-b65e-478a-d2d3-26008a474547"
      },
      "source": [
        "# Inserts values into array x1 before index 4 with elements of x4\n",
        "np.insert(x1,4,x4)"
      ],
      "execution_count": 115,
      "outputs": [
        {
          "output_type": "execute_result",
          "data": {
            "text/plain": [
              "array([  0, 100,   2,   3,   0, 100,   2,   3,   4,   5,   6,   7,   8,\n",
              "       900,   4,   5,   6,   7,   8,   9])"
            ]
          },
          "metadata": {
            "tags": []
          },
          "execution_count": 115
        }
      ]
    },
    {
      "cell_type": "markdown",
      "metadata": {
        "id": "xs3z4lramkFE"
      },
      "source": [
        "You can see in above output we have inserted all the elements of x4 before index 4 in array x1."
      ]
    },
    {
      "cell_type": "code",
      "metadata": {
        "id": "4gq3UgcomkFE",
        "colab": {
          "base_uri": "https://localhost:8080/"
        },
        "outputId": "1f62a589-a877-422f-c070-7a445e3edfe3"
      },
      "source": [
        "# delete 2nd element from array x2\n",
        "\n",
        "np.delete(x2,2)"
      ],
      "execution_count": 117,
      "outputs": [
        {
          "output_type": "execute_result",
          "data": {
            "text/plain": [
              "array([  0, 100,   3,   4,   5,   6,   7,   8,   9])"
            ]
          },
          "metadata": {
            "tags": []
          },
          "execution_count": 117
        }
      ]
    },
    {
      "cell_type": "markdown",
      "metadata": {
        "id": "srbz0M70mkFE"
      },
      "source": [
        "Did you see? 2 value is deleted from x2 which was at index position 2"
      ]
    },
    {
      "cell_type": "markdown",
      "metadata": {
        "id": "ApFze8XOmkFF"
      },
      "source": [
        "## Mathmatical operations on Numpy array\n",
        "\n",
        "Reference doc for Numpy Mathmatical functions: https://numpy.org/doc/stable/reference/routines.math.html\n",
        "\n",
        "<p style='text-align: right;'> 8 points </p>\n"
      ]
    },
    {
      "cell_type": "code",
      "metadata": {
        "id": "QuLY8hK4mkFF",
        "colab": {
          "base_uri": "https://localhost:8080/"
        },
        "outputId": "dffae933-8ef0-4365-ffdc-fe0484f0d2b4"
      },
      "source": [
        "# print trigonometric sin value of each element of a\n",
        "np.sin(a)"
      ],
      "execution_count": 119,
      "outputs": [
        {
          "output_type": "execute_result",
          "data": {
            "text/plain": [
              "array([[ 0.84147098,  0.90929743,  0.14112001],\n",
              "       [-0.7568025 , -0.95892427, -0.2794155 ],\n",
              "       [ 0.6569866 ,  0.98935825,  0.41211849]])"
            ]
          },
          "metadata": {
            "tags": []
          },
          "execution_count": 119
        }
      ]
    },
    {
      "cell_type": "code",
      "metadata": {
        "id": "PS44fqNgmkFF",
        "colab": {
          "base_uri": "https://localhost:8080/"
        },
        "outputId": "c755c059-1e1e-4ae1-98cb-e6e5aee2e57e"
      },
      "source": [
        "# print trigonometric cos value of each element of a\n",
        "\n",
        "np.cos(a)"
      ],
      "execution_count": 121,
      "outputs": [
        {
          "output_type": "execute_result",
          "data": {
            "text/plain": [
              "array([[ 0.54030231, -0.41614684, -0.9899925 ],\n",
              "       [-0.65364362,  0.28366219,  0.96017029],\n",
              "       [ 0.75390225, -0.14550003, -0.91113026]])"
            ]
          },
          "metadata": {
            "tags": []
          },
          "execution_count": 121
        }
      ]
    },
    {
      "cell_type": "code",
      "metadata": {
        "id": "7LkMNY7ZmkFG",
        "colab": {
          "base_uri": "https://localhost:8080/"
        },
        "outputId": "2e12f137-e5ec-4f9d-c656-96949e90840c"
      },
      "source": [
        "# Print exponential value of each elements of a\n",
        "np.exp(a)"
      ],
      "execution_count": 122,
      "outputs": [
        {
          "output_type": "execute_result",
          "data": {
            "text/plain": [
              "array([[2.71828183e+00, 7.38905610e+00, 2.00855369e+01],\n",
              "       [5.45981500e+01, 1.48413159e+02, 4.03428793e+02],\n",
              "       [1.09663316e+03, 2.98095799e+03, 8.10308393e+03]])"
            ]
          },
          "metadata": {
            "tags": []
          },
          "execution_count": 122
        }
      ]
    },
    {
      "cell_type": "markdown",
      "metadata": {
        "id": "LFlpEWoxmkFG"
      },
      "source": [
        "Referal: https://numpy.org/doc/stable/reference/generated/numpy.sum.html"
      ]
    },
    {
      "cell_type": "code",
      "metadata": {
        "id": "Ba_ORop3mkFG",
        "colab": {
          "base_uri": "https://localhost:8080/"
        },
        "outputId": "0f1823af-a7c1-4b9d-a99f-f4553c7a13fc"
      },
      "source": [
        "# print total sum of elements of a\n",
        "np.sum(a)"
      ],
      "execution_count": 123,
      "outputs": [
        {
          "output_type": "execute_result",
          "data": {
            "text/plain": [
              "45"
            ]
          },
          "metadata": {
            "tags": []
          },
          "execution_count": 123
        }
      ]
    },
    {
      "cell_type": "code",
      "metadata": {
        "id": "R0_l0WB-mkFG",
        "colab": {
          "base_uri": "https://localhost:8080/"
        },
        "outputId": "116e0697-e4f6-42af-aea1-c34e557ad6b1"
      },
      "source": [
        "# Print sum in array a column wise\n",
        "np.sum(a,axis=0)"
      ],
      "execution_count": 124,
      "outputs": [
        {
          "output_type": "execute_result",
          "data": {
            "text/plain": [
              "array([12, 15, 18])"
            ]
          },
          "metadata": {
            "tags": []
          },
          "execution_count": 124
        }
      ]
    },
    {
      "cell_type": "code",
      "metadata": {
        "id": "wHetA_8OmkFH",
        "colab": {
          "base_uri": "https://localhost:8080/"
        },
        "outputId": "4b571b70-be85-4a2e-e62f-55ce1dcb7a31"
      },
      "source": [
        "# Print sum in array a row wise\n",
        "np.sum(a,axis=1)"
      ],
      "execution_count": 125,
      "outputs": [
        {
          "output_type": "execute_result",
          "data": {
            "text/plain": [
              "array([ 6, 15, 24])"
            ]
          },
          "metadata": {
            "tags": []
          },
          "execution_count": 125
        }
      ]
    },
    {
      "cell_type": "markdown",
      "metadata": {
        "id": "Ba53D42PmkFH"
      },
      "source": [
        "Refrence doc: https://numpy.org/doc/stable/reference/generated/numpy.median.html"
      ]
    },
    {
      "cell_type": "code",
      "metadata": {
        "id": "HfukmbSwmkFI",
        "colab": {
          "base_uri": "https://localhost:8080/"
        },
        "outputId": "3f9275f5-b0b7-4f92-d5db-e11a2314c1ee"
      },
      "source": [
        "# print median of array a\n",
        "\n",
        "np.median(a)"
      ],
      "execution_count": 126,
      "outputs": [
        {
          "output_type": "execute_result",
          "data": {
            "text/plain": [
              "5.0"
            ]
          },
          "metadata": {
            "tags": []
          },
          "execution_count": 126
        }
      ]
    },
    {
      "cell_type": "markdown",
      "metadata": {
        "id": "ZDHG3Xu3mkFI"
      },
      "source": [
        "Refrence doc: https://numpy.org/doc/stable/reference/generated/numpy.std.html"
      ]
    },
    {
      "cell_type": "code",
      "metadata": {
        "id": "V0lz4cC4mkFJ",
        "colab": {
          "base_uri": "https://localhost:8080/"
        },
        "outputId": "28de9ce7-a838-4a86-84f3-10636452f4a9"
      },
      "source": [
        "# print standard deviation of array a\n",
        "\n",
        "np.std(a)"
      ],
      "execution_count": 127,
      "outputs": [
        {
          "output_type": "execute_result",
          "data": {
            "text/plain": [
              "2.581988897471611"
            ]
          },
          "metadata": {
            "tags": []
          },
          "execution_count": 127
        }
      ]
    },
    {
      "cell_type": "markdown",
      "metadata": {
        "id": "nV7P0cPomkFJ"
      },
      "source": [
        "Refrence doc: https://numpy.org/doc/stable/reference/generated/numpy.linalg.det.html"
      ]
    },
    {
      "cell_type": "code",
      "metadata": {
        "id": "Odl07GK1mkFJ",
        "colab": {
          "base_uri": "https://localhost:8080/"
        },
        "outputId": "9a1f533f-26f5-4cc0-ba08-6b76dd80f59e"
      },
      "source": [
        "# print the determinant of array a\n",
        "\n",
        "np.linalg.det(a)\n"
      ],
      "execution_count": 128,
      "outputs": [
        {
          "output_type": "execute_result",
          "data": {
            "text/plain": [
              "0.0"
            ]
          },
          "metadata": {
            "tags": []
          },
          "execution_count": 128
        }
      ]
    },
    {
      "cell_type": "markdown",
      "metadata": {
        "id": "g2XNPAAdmkFK"
      },
      "source": [
        "reference doc: https://numpy.org/doc/stable/reference/generated/numpy.linalg.inv.html"
      ]
    },
    {
      "cell_type": "code",
      "metadata": {
        "id": "ip9wUF1EmkFK",
        "colab": {
          "base_uri": "https://localhost:8080/",
          "height": 357
        },
        "outputId": "14a1c448-c8f6-4f5b-ce4a-fbdbdd510b6e"
      },
      "source": [
        "# print the (multiplicative) inverse of array a\n",
        "np.linalg.inv(a)"
      ],
      "execution_count": 140,
      "outputs": [
        {
          "output_type": "error",
          "ename": "LinAlgError",
          "evalue": "ignored",
          "traceback": [
            "\u001b[0;31m---------------------------------------------------------------------------\u001b[0m",
            "\u001b[0;31mLinAlgError\u001b[0m                               Traceback (most recent call last)",
            "\u001b[0;32m<ipython-input-140-e19678cecfb1>\u001b[0m in \u001b[0;36m<module>\u001b[0;34m()\u001b[0m\n\u001b[1;32m      1\u001b[0m \u001b[0;31m# print the (multiplicative) inverse of array a\u001b[0m\u001b[0;34m\u001b[0m\u001b[0;34m\u001b[0m\u001b[0;34m\u001b[0m\u001b[0m\n\u001b[0;32m----> 2\u001b[0;31m \u001b[0mnp\u001b[0m\u001b[0;34m.\u001b[0m\u001b[0mlinalg\u001b[0m\u001b[0;34m.\u001b[0m\u001b[0minv\u001b[0m\u001b[0;34m(\u001b[0m\u001b[0ma\u001b[0m\u001b[0;34m)\u001b[0m\u001b[0;34m\u001b[0m\u001b[0;34m\u001b[0m\u001b[0m\n\u001b[0m",
            "\u001b[0;32m<__array_function__ internals>\u001b[0m in \u001b[0;36minv\u001b[0;34m(*args, **kwargs)\u001b[0m\n",
            "\u001b[0;32m/usr/local/lib/python3.7/dist-packages/numpy/linalg/linalg.py\u001b[0m in \u001b[0;36minv\u001b[0;34m(a)\u001b[0m\n\u001b[1;32m    544\u001b[0m     \u001b[0msignature\u001b[0m \u001b[0;34m=\u001b[0m \u001b[0;34m'D->D'\u001b[0m \u001b[0;32mif\u001b[0m \u001b[0misComplexType\u001b[0m\u001b[0;34m(\u001b[0m\u001b[0mt\u001b[0m\u001b[0;34m)\u001b[0m \u001b[0;32melse\u001b[0m \u001b[0;34m'd->d'\u001b[0m\u001b[0;34m\u001b[0m\u001b[0;34m\u001b[0m\u001b[0m\n\u001b[1;32m    545\u001b[0m     \u001b[0mextobj\u001b[0m \u001b[0;34m=\u001b[0m \u001b[0mget_linalg_error_extobj\u001b[0m\u001b[0;34m(\u001b[0m\u001b[0m_raise_linalgerror_singular\u001b[0m\u001b[0;34m)\u001b[0m\u001b[0;34m\u001b[0m\u001b[0;34m\u001b[0m\u001b[0m\n\u001b[0;32m--> 546\u001b[0;31m     \u001b[0mainv\u001b[0m \u001b[0;34m=\u001b[0m \u001b[0m_umath_linalg\u001b[0m\u001b[0;34m.\u001b[0m\u001b[0minv\u001b[0m\u001b[0;34m(\u001b[0m\u001b[0ma\u001b[0m\u001b[0;34m,\u001b[0m \u001b[0msignature\u001b[0m\u001b[0;34m=\u001b[0m\u001b[0msignature\u001b[0m\u001b[0;34m,\u001b[0m \u001b[0mextobj\u001b[0m\u001b[0;34m=\u001b[0m\u001b[0mextobj\u001b[0m\u001b[0;34m)\u001b[0m\u001b[0;34m\u001b[0m\u001b[0;34m\u001b[0m\u001b[0m\n\u001b[0m\u001b[1;32m    547\u001b[0m     \u001b[0;32mreturn\u001b[0m \u001b[0mwrap\u001b[0m\u001b[0;34m(\u001b[0m\u001b[0mainv\u001b[0m\u001b[0;34m.\u001b[0m\u001b[0mastype\u001b[0m\u001b[0;34m(\u001b[0m\u001b[0mresult_t\u001b[0m\u001b[0;34m,\u001b[0m \u001b[0mcopy\u001b[0m\u001b[0;34m=\u001b[0m\u001b[0;32mFalse\u001b[0m\u001b[0;34m)\u001b[0m\u001b[0;34m)\u001b[0m\u001b[0;34m\u001b[0m\u001b[0;34m\u001b[0m\u001b[0m\n\u001b[1;32m    548\u001b[0m \u001b[0;34m\u001b[0m\u001b[0m\n",
            "\u001b[0;32m/usr/local/lib/python3.7/dist-packages/numpy/linalg/linalg.py\u001b[0m in \u001b[0;36m_raise_linalgerror_singular\u001b[0;34m(err, flag)\u001b[0m\n\u001b[1;32m     86\u001b[0m \u001b[0;34m\u001b[0m\u001b[0m\n\u001b[1;32m     87\u001b[0m \u001b[0;32mdef\u001b[0m \u001b[0m_raise_linalgerror_singular\u001b[0m\u001b[0;34m(\u001b[0m\u001b[0merr\u001b[0m\u001b[0;34m,\u001b[0m \u001b[0mflag\u001b[0m\u001b[0;34m)\u001b[0m\u001b[0;34m:\u001b[0m\u001b[0;34m\u001b[0m\u001b[0;34m\u001b[0m\u001b[0m\n\u001b[0;32m---> 88\u001b[0;31m     \u001b[0;32mraise\u001b[0m \u001b[0mLinAlgError\u001b[0m\u001b[0;34m(\u001b[0m\u001b[0;34m\"Singular matrix\"\u001b[0m\u001b[0;34m)\u001b[0m\u001b[0;34m\u001b[0m\u001b[0;34m\u001b[0m\u001b[0m\n\u001b[0m\u001b[1;32m     89\u001b[0m \u001b[0;34m\u001b[0m\u001b[0m\n\u001b[1;32m     90\u001b[0m \u001b[0;32mdef\u001b[0m \u001b[0m_raise_linalgerror_nonposdef\u001b[0m\u001b[0;34m(\u001b[0m\u001b[0merr\u001b[0m\u001b[0;34m,\u001b[0m \u001b[0mflag\u001b[0m\u001b[0;34m)\u001b[0m\u001b[0;34m:\u001b[0m\u001b[0;34m\u001b[0m\u001b[0;34m\u001b[0m\u001b[0m\n",
            "\u001b[0;31mLinAlgError\u001b[0m: Singular matrix"
          ]
        }
      ]
    },
    {
      "cell_type": "markdown",
      "metadata": {
        "id": "RQWJe8C4mkFK"
      },
      "source": [
        "Reference doc: https://numpy.org/doc/stable/reference/generated/numpy.linalg.eig.html"
      ]
    },
    {
      "cell_type": "code",
      "metadata": {
        "id": "DEsFLUvCmkFK",
        "colab": {
          "base_uri": "https://localhost:8080/"
        },
        "outputId": "5440d2b1-b9f1-4dec-9f24-898b470c6af3"
      },
      "source": [
        "# Print the eigenvalues and right eigenvectors of array a.\n",
        "np.linalg.eig(a)\n"
      ],
      "execution_count": 139,
      "outputs": [
        {
          "output_type": "execute_result",
          "data": {
            "text/plain": [
              "(array([ 1.61168440e+01, -1.11684397e+00, -9.75918483e-16]),\n",
              " array([[-0.23197069, -0.78583024,  0.40824829],\n",
              "        [-0.52532209, -0.08675134, -0.81649658],\n",
              "        [-0.8186735 ,  0.61232756,  0.40824829]]))"
            ]
          },
          "metadata": {
            "tags": []
          },
          "execution_count": 139
        }
      ]
    },
    {
      "cell_type": "markdown",
      "metadata": {
        "id": "ImxmkQahmkFL"
      },
      "source": [
        "Reference doc: https://numpy.org/doc/stable/reference/generated/numpy.dot.html"
      ]
    },
    {
      "cell_type": "code",
      "metadata": {
        "id": "QFerLPbSmkFL",
        "colab": {
          "base_uri": "https://localhost:8080/"
        },
        "outputId": "6c53660b-47d1-43dd-8891-0078b3e39f6e"
      },
      "source": [
        "# compute dot product of arr1 and arr2\n",
        "np.dot(arr1,arr2)"
      ],
      "execution_count": 141,
      "outputs": [
        {
          "output_type": "execute_result",
          "data": {
            "text/plain": [
              "array([[19, 22],\n",
              "       [43, 50]])"
            ]
          },
          "metadata": {
            "tags": []
          },
          "execution_count": 141
        }
      ]
    },
    {
      "cell_type": "markdown",
      "metadata": {
        "id": "0oTeGTzDmkFL"
      },
      "source": [
        "reference doc: https://numpy.org/doc/stable/reference/generated/numpy.ndarray.max.html"
      ]
    },
    {
      "cell_type": "code",
      "metadata": {
        "id": "0Rdnn4NKmkFM",
        "colab": {
          "base_uri": "https://localhost:8080/"
        },
        "outputId": "70116736-b3ae-4c2f-df6d-ff4f73ed1f85"
      },
      "source": [
        "#print largest element present in array a\n",
        "np.max(a)"
      ],
      "execution_count": 143,
      "outputs": [
        {
          "output_type": "execute_result",
          "data": {
            "text/plain": [
              "9"
            ]
          },
          "metadata": {
            "tags": []
          },
          "execution_count": 143
        }
      ]
    },
    {
      "cell_type": "markdown",
      "metadata": {
        "id": "mpxy5lcVmkFM"
      },
      "source": [
        "Reference doc: https://numpy.org/doc/stable/reference/generated/numpy.argmax.html"
      ]
    },
    {
      "cell_type": "code",
      "metadata": {
        "id": "h9I4PNkAmkFM",
        "colab": {
          "base_uri": "https://localhost:8080/"
        },
        "outputId": "ed13828a-80ed-45f8-a97b-c013c0ed6ec3"
      },
      "source": [
        "#print index of largest element present in array a \n",
        "np.argmax(a)"
      ],
      "execution_count": 144,
      "outputs": [
        {
          "output_type": "execute_result",
          "data": {
            "text/plain": [
              "8"
            ]
          },
          "metadata": {
            "tags": []
          },
          "execution_count": 144
        }
      ]
    },
    {
      "cell_type": "markdown",
      "metadata": {
        "id": "ZslSJQyEmkFN"
      },
      "source": [
        "Reference doc: https://numpy.org/doc/stable/reference/generated/numpy.sort.html"
      ]
    },
    {
      "cell_type": "code",
      "metadata": {
        "id": "4Tw6UMHTmkFN",
        "colab": {
          "base_uri": "https://localhost:8080/"
        },
        "outputId": "eabae0dc-739e-44ee-d431-87883d1690b8"
      },
      "source": [
        "# print sorted x4 array\n",
        "np.sort(x4)"
      ],
      "execution_count": 145,
      "outputs": [
        {
          "output_type": "execute_result",
          "data": {
            "text/plain": [
              "array([  0,   2,   3,   4,   5,   6,   7,   8, 100, 900])"
            ]
          },
          "metadata": {
            "tags": []
          },
          "execution_count": 145
        }
      ]
    },
    {
      "cell_type": "markdown",
      "metadata": {
        "id": "e6Qmbb9YmkFN"
      },
      "source": [
        "Reference doc: https://numpy.org/doc/stable/reference/generated/numpy.argsort.html"
      ]
    },
    {
      "cell_type": "code",
      "metadata": {
        "id": "P1gdtbkjmkFN",
        "colab": {
          "base_uri": "https://localhost:8080/"
        },
        "outputId": "54e1ce00-5bf3-4cc4-ac69-3f0e6ea162c9"
      },
      "source": [
        "# print indices of each sorted element in x4 array\n",
        "np.argsort(x4)\n"
      ],
      "execution_count": 146,
      "outputs": [
        {
          "output_type": "execute_result",
          "data": {
            "text/plain": [
              "array([0, 2, 3, 4, 5, 6, 7, 8, 1, 9])"
            ]
          },
          "metadata": {
            "tags": []
          },
          "execution_count": 146
        }
      ]
    },
    {
      "cell_type": "markdown",
      "metadata": {
        "id": "hOTmUJOZmkFO"
      },
      "source": [
        "## Searching Arrays\n",
        "\n",
        "Reference: https://www.youtube.com/watch?v=0t6FRh0Pmtw\n",
        "\n",
        "You can search an array for a certain value, and return the indexes that get a match.\n",
        "\n",
        "To search an array, use the where() method.\n",
        "\n",
        "<p style='text-align: right;'> 4 points </p>\n"
      ]
    },
    {
      "cell_type": "code",
      "metadata": {
        "id": "O7jZXTtKmkFO",
        "colab": {
          "base_uri": "https://localhost:8080/"
        },
        "outputId": "f3b7443c-cab8-4a79-95c2-0cad3a01c0dd"
      },
      "source": [
        "# print the indexes where the value is 4 in array x1\n",
        "\n",
        "print(np.where(x1==4))\n",
        "print(x1)"
      ],
      "execution_count": 149,
      "outputs": [
        {
          "output_type": "stream",
          "text": [
            "(array([4]),)\n",
            "[  0 100   2   3   4   5   6   7   8   9]\n"
          ],
          "name": "stdout"
        }
      ]
    },
    {
      "cell_type": "markdown",
      "metadata": {
        "id": "_6Wdka1jmkFO"
      },
      "source": [
        "Which means that the value 4 is present at index 4\n",
        "\n",
        "You can check it by printing array x1"
      ]
    },
    {
      "cell_type": "code",
      "metadata": {
        "id": "2yXNDqKlmkFO",
        "colab": {
          "base_uri": "https://localhost:8080/"
        },
        "outputId": "b967ea0c-46fa-4703-d0d3-952ec7480f0b"
      },
      "source": [
        "#print array x1\n",
        "x1"
      ],
      "execution_count": 150,
      "outputs": [
        {
          "output_type": "execute_result",
          "data": {
            "text/plain": [
              "array([  0, 100,   2,   3,   4,   5,   6,   7,   8,   9])"
            ]
          },
          "metadata": {
            "tags": []
          },
          "execution_count": 150
        }
      ]
    },
    {
      "cell_type": "code",
      "metadata": {
        "id": "pLZky4remkFP",
        "colab": {
          "base_uri": "https://localhost:8080/"
        },
        "outputId": "eda8d472-b7ec-49da-b187-bfa4b0799a98"
      },
      "source": [
        "# Print the indexes where the values are even in array x1\n",
        "\n",
        "np.where(x1%2==0)"
      ],
      "execution_count": 151,
      "outputs": [
        {
          "output_type": "execute_result",
          "data": {
            "text/plain": [
              "(array([0, 1, 2, 4, 6, 8]),)"
            ]
          },
          "metadata": {
            "tags": []
          },
          "execution_count": 151
        }
      ]
    },
    {
      "cell_type": "code",
      "metadata": {
        "id": "9_zybXFQmkFP",
        "colab": {
          "base_uri": "https://localhost:8080/"
        },
        "outputId": "6f95a9be-40be-46e2-8d92-2832dfd41803"
      },
      "source": [
        "# Print x1 where x1 is greater than 5, also if number is less than 5 then replace it with 0\n",
        "print(np.where(x1>5,x1,0))\n",
        "print(x1)\n"
      ],
      "execution_count": 154,
      "outputs": [
        {
          "output_type": "stream",
          "text": [
            "[  0 100   0   0   0   0   6   7   8   9]\n",
            "[  0 100   2   3   4   5   6   7   8   9]\n"
          ],
          "name": "stdout"
        }
      ]
    },
    {
      "cell_type": "markdown",
      "metadata": {
        "id": "wGmG-tZVmkFP"
      },
      "source": [
        "Good Job learner! \n",
        "\n",
        "---------------------\n",
        "# Bam! Congratulations You have completed your 4th milestone challenge too!\n",
        "\n",
        "----------------------\n",
        "\n",
        "# Its Feedback Time!\n",
        "\n",
        "We hope you’ve enjoyed this course so far. We’re committed to help you use \"AI for All\" course to its full potential, so that you have a great learning experience. And that’s why we need your help in form of a feedback here.\n",
        "\n",
        "**Please fill this feedback form**\n",
        " https://zfrmz.in/MtRG5oWXBdesm6rmSM7N"
      ]
    }
  ]
}